{
 "cells": [
  {
   "cell_type": "code",
   "execution_count": 5,
   "id": "f1b93af0-3444-4ad0-bdf6-e4bb0af8bcef",
   "metadata": {},
   "outputs": [
    {
     "ename": "ModuleNotFoundError",
     "evalue": "No module named 'datasets_generation'",
     "output_type": "error",
     "traceback": [
      "\u001b[31m---------------------------------------------------------------------------\u001b[39m",
      "\u001b[31mModuleNotFoundError\u001b[39m                       Traceback (most recent call last)",
      "\u001b[36mCell\u001b[39m\u001b[36m \u001b[39m\u001b[32mIn[5]\u001b[39m\u001b[32m, line 6\u001b[39m\n\u001b[32m      4\u001b[39m \u001b[38;5;28;01mfrom\u001b[39;00m\u001b[38;5;250m \u001b[39m\u001b[34;01msklearn\u001b[39;00m\u001b[34;01m.\u001b[39;00m\u001b[34;01msvm\u001b[39;00m\u001b[38;5;250m \u001b[39m\u001b[38;5;28;01mimport\u001b[39;00m SVC\n\u001b[32m      5\u001b[39m \u001b[38;5;28;01mfrom\u001b[39;00m\u001b[38;5;250m \u001b[39m\u001b[34;01msklearn\u001b[39;00m\u001b[34;01m.\u001b[39;00m\u001b[34;01mpipeline\u001b[39;00m\u001b[38;5;250m \u001b[39m\u001b[38;5;28;01mimport\u001b[39;00m make_pipeline\n\u001b[32m----> \u001b[39m\u001b[32m6\u001b[39m \u001b[38;5;28;01mfrom\u001b[39;00m\u001b[38;5;250m \u001b[39m\u001b[34;01mdatasets_generation\u001b[39;00m\u001b[38;5;250m \u001b[39m\u001b[38;5;28;01mimport\u001b[39;00m load_dataset  \u001b[38;5;66;03m# власна функція для генерації синтетичних датасетів\u001b[39;00m\n\u001b[32m      8\u001b[39m \u001b[38;5;28;01mdef\u001b[39;00m\u001b[38;5;250m \u001b[39m\u001b[34mcreate_models\u001b[39m():\n\u001b[32m      9\u001b[39m \u001b[38;5;250m    \u001b[39m\u001b[33;03m\"\"\"\u001b[39;00m\n\u001b[32m     10\u001b[39m \u001b[33;03m    Створює список моделей SVM з різними ядрами та параметрами\u001b[39;00m\n\u001b[32m     11\u001b[39m \u001b[33;03m    \"\"\"\u001b[39;00m\n",
      "\u001b[31mModuleNotFoundError\u001b[39m: No module named 'datasets_generation'"
     ]
    }
   ],
   "source": [
    "import numpy as np\n",
    "import matplotlib.pyplot as plt\n",
    "from sklearn.preprocessing import StandardScaler\n",
    "from sklearn.svm import SVC\n",
    "from sklearn.pipeline import make_pipeline\n",
    "from datasets_generation import load_dataset  # власна функція для генерації синтетичних датасетів\n",
    "\n",
    "def create_models():\n",
    "    \"\"\"\n",
    "    Створює список моделей SVM з різними ядрами та параметрами\n",
    "    \"\"\"\n",
    "    models = [\n",
    "        (\"Linear SVM\", make_pipeline(StandardScaler(), SVC(kernel=\"linear\", C=1.0))),\n",
    "        (\"Polynomial deg=3\", make_pipeline(StandardScaler(), SVC(kernel=\"poly\", degree=3, C=5.0, coef0=1.0, gamma=\"scale\"))),\n",
    "        (\"RBF γ=scale\", make_pipeline(StandardScaler(), SVC(kernel=\"rbf\", C=5.0, gamma=\"scale\"))),\n",
    "        (\"RBF γ=auto\", make_pipeline(StandardScaler(), SVC(kernel=\"rbf\", C=5.0, gamma=\"auto\"))),\n",
    "        (\"RBF smooth\", make_pipeline(StandardScaler(), SVC(kernel=\"rbf\", C=1.0, gamma=0.5))),\n",
    "        (\"RBF wiggly\", make_pipeline(StandardScaler(), SVC(kernel=\"rbf\", C=50.0, gamma=5.0))),\n",
    "    ]\n",
    "    return models\n",
    "\n",
    "def plot_decision(ax, model, X, y, title):\n",
    "    \"\"\"\n",
    "    Візуалізує межі рішень SVM та дані\n",
    "    \"\"\"\n",
    "    # створюємо сітку для графіка\n",
    "    x_min, x_max = X[:,0].min() - 0.5, X[:,0].max() + 0.5\n",
    "    y_min, y_max = X[:,1].min() - 0.5, X[:,1].max() + 0.5\n",
    "    xx, yy = np.meshgrid(np.linspace(x_min, x_max, 400),\n",
    "                         np.linspace(y_min, y_max, 400))\n",
    "\n",
    "    # обчислюємо функцію рішення для сітки\n",
    "    Z = model.decision_function(np.c_[xx.ravel(), yy.ravel()])\n",
    "    Z = Z.reshape(xx.shape)\n",
    "\n",
    "    # малюємо межі рішень та відступи\n",
    "    ax.contour(xx, yy, Z, levels=[-1, 0, 1], linestyles=[\"--\", \"-\", \"--\"])\n",
    "    ax.scatter(X[:,0], X[:,1], c=y, s=15, alpha=0.7, edgecolor=\"none\")\n",
    "    ax.set_title(title)\n",
    "\n",
    "def run_svm_on_datasets(datasets, n_samples=600, random_seed=0):\n",
    "    \"\"\"\n",
    "    Навчає SVM на різних синтетичних датасетах та візуалізує результати\n",
    "    \"\"\"\n",
    "    rng = np.random.default_rng(random_seed)\n",
    "    models = create_models()\n",
    "\n",
    "    for dataset_name in datasets:\n",
    "        # завантаження датасету\n",
    "        X, y = load_dataset(dataset_name, n_samples, rng)\n",
    "\n",
    "        # створюємо фігуру для графіків\n",
    "        fig, axes = plt.subplots(2, 3, figsize=(12, 8))\n",
    "        axes = axes.ravel()\n",
    "\n",
    "        # навчання моделей та візуалізація\n",
    "        for ax, (name, clf) in zip(axes, models):\n",
    "            clf.fit(X, y)\n",
    "            plot_decision(ax, clf, X, y, name)\n",
    "\n",
    "        plt.suptitle(f\"SVM з різними ядрами на датасеті '{dataset_name}'\")\n",
    "        plt.tight_layout()\n",
    "        plt.show()\n",
    "\n",
    "# Виконуємо для всіх датасетів\n",
    "datasets_list = [\"moons\", \"circles\", \"xor\", \"spirals\", \"rings\", \"checker\"]\n",
    "run_svm_on_datasets(datasets_list)\n"
   ]
  }
 ],
 "metadata": {
  "kernelspec": {
   "display_name": "Python 3 (ipykernel)",
   "language": "python",
   "name": "python3"
  },
  "language_info": {
   "codemirror_mode": {
    "name": "ipython",
    "version": 3
   },
   "file_extension": ".py",
   "mimetype": "text/x-python",
   "name": "python",
   "nbconvert_exporter": "python",
   "pygments_lexer": "ipython3",
   "version": "3.13.7"
  }
 },
 "nbformat": 4,
 "nbformat_minor": 5
}
