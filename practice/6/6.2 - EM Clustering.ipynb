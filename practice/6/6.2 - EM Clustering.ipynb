{
 "cells": [
  {
   "cell_type": "markdown",
   "metadata": {},
   "source": [
    "# EM Clustering"
   ]
  },
  {
   "cell_type": "code",
   "execution_count": null,
   "metadata": {},
   "outputs": [],
   "source": [
    "import pandas as pd\n",
    "import numpy as np\n",
    "import matplotlib.pyplot as plt\n",
    "import matplotlib.cm as cm\n",
    "from sklearn.mixture import GaussianMixture\n",
    "from sklearn.metrics import silhouette_samples, silhouette_score\n",
    "from sklearn.utils import shuffle"
   ]
  },
  {
   "cell_type": "markdown",
   "metadata": {},
   "source": [
    "## Generate Data"
   ]
  },
  {
   "cell_type": "code",
   "execution_count": null,
   "metadata": {},
   "outputs": [],
   "source": [
    "num_points = 1000\n",
    "\n",
    "mean_1 = [-1, -3]\n",
    "cov_1 = [[2, 2], [2, 5]]\n",
    "x_1 = np.random.multivariate_normal(mean_1, cov_1, num_points)\n",
    "\n",
    "mean_2 = [4, 5]\n",
    "cov_2 = [[7, -2], [-2, 3]]\n",
    "x_2 = np.random.multivariate_normal(mean_2, cov_2, num_points)\n",
    "\n",
    "X = np.concatenate([x_1, x_2])\n",
    "y = np.array([0] * num_points + [1] *  num_points) \n",
    "X, y = shuffle(X, y, random_state=0)\n",
    "plt.scatter(X[:, 0], X[:, 1], s = 3, c = y)"
   ]
  },
  {
   "cell_type": "markdown",
   "metadata": {},
   "source": [
    "## Silhouette score"
   ]
  },
  {
   "cell_type": "code",
   "execution_count": null,
   "metadata": {},
   "outputs": [],
   "source": [
    "for i in range(2, 5):\n",
    "    gmm = GaussianMixture(n_components=i, covariance_type='full')\n",
    "    gmm_labels = gmm.fit_predict(X)\n",
    "    silhouette_avg = silhouette_score(X, gmm_labels)\n",
    "    print(\"For n_clusters =\", i, \" silhouette average:\", silhouette_avg)"
   ]
  },
  {
   "cell_type": "markdown",
   "metadata": {},
   "source": [
    "## Covariance type"
   ]
  },
  {
   "cell_type": "code",
   "execution_count": null,
   "metadata": {},
   "outputs": [],
   "source": [
    "GMM = GaussianMixture(n_components=2, covariance_type='full')\n",
    "GMM.fit(X)\n",
    "print('means ')\n",
    "print(GMM.means_)\n",
    "print('covariances ')\n",
    "print(GMM.covariances_)"
   ]
  },
  {
   "cell_type": "code",
   "execution_count": null,
   "metadata": {},
   "outputs": [],
   "source": [
    "labels = GMM.predict(X)\n",
    "\n",
    "f, (ax1, ax2) = plt.subplots(1, 2, sharey=True)\n",
    "ax1.set_title('GMM')\n",
    "ax1.scatter(X[:,0], X[:,1], c=labels, s=3)\n",
    "ax2.set_title(\"Original\")\n",
    "ax2.scatter(X[:,0], X[:,1], c=y, s=3)"
   ]
  },
  {
   "cell_type": "code",
   "execution_count": null,
   "metadata": {},
   "outputs": [],
   "source": [
    "GMM = GaussianMixture(n_components=2, covariance_type='spherical')\n",
    "GMM.fit(X)\n",
    "\n",
    "labels = GMM.predict(X)\n",
    "\n",
    "f, (ax1, ax2) = plt.subplots(1, 2, sharey=True)\n",
    "ax1.set_title('GMM')\n",
    "ax1.scatter(X[:,0], X[:,1], c=labels, s=3)\n",
    "ax2.set_title(\"Original\")\n",
    "ax2.scatter(X[:,0], X[:,1], c=y, s=3)"
   ]
  },
  {
   "cell_type": "code",
   "execution_count": null,
   "metadata": {},
   "outputs": [],
   "source": []
  }
 ],
 "metadata": {
  "kernelspec": {
   "display_name": "Python 3 (ipykernel)",
   "language": "python",
   "name": "python3"
  },
  "language_info": {
   "codemirror_mode": {
    "name": "ipython",
    "version": 3
   },
   "file_extension": ".py",
   "mimetype": "text/x-python",
   "name": "python",
   "nbconvert_exporter": "python",
   "pygments_lexer": "ipython3",
   "version": "3.13.7"
  }
 },
 "nbformat": 4,
 "nbformat_minor": 4
}
