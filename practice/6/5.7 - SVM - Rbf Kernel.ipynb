{
 "cells": [
  {
   "cell_type": "code",
   "execution_count": null,
   "metadata": {},
   "outputs": [],
   "source": [
    "import numpy as np\n",
    "import matplotlib.pyplot as plt\n",
    "from sklearn.preprocessing import StandardScaler\n",
    "from sklearn.svm import SVC\n",
    "from sklearn.pipeline import make_pipeline\n",
    "from datasets_generation import load_dataset\n",
    "\n",
    "def plot_decision_function(ax, model, X, y, title):\n",
    "    # mesh\n",
    "    x_min, x_max = X[:,0].min()-0.5, X[:,0].max()+0.5\n",
    "    y_min, y_max = X[:,1].min()-0.5, X[:,1].max()+0.5\n",
    "    xx, yy = np.meshgrid(\n",
    "        np.linspace(x_min, x_max, 400),\n",
    "        np.linspace(y_min, y_max, 400)\n",
    "    )\n",
    "    Z = model.decision_function(np.c_[xx.ravel(), yy.ravel()])\n",
    "    Z = Z.reshape(xx.shape)\n",
    "\n",
    "    # decision boundary & margins\n",
    "    cs = ax.contour(xx, yy, Z, levels=[-1, 0, 1], linestyles=[\"--\", \"-\", \"--\"])\n",
    "    ax.clabel(cs, inline=1, fontsize=8)\n",
    "    # points\n",
    "    ax.scatter(X[:,0], X[:,1], c=y, s=15, alpha=0.7, edgecolor=\"none\")\n",
    "    ax.set_title(title)\n",
    "\n",
    "# Models to compare\n",
    "models = [\n",
    "    (\"Linear SVM\", make_pipeline(StandardScaler(), SVC(kernel=\"linear\", C=1.0))),\n",
    "    (\"Poly deg=3\", make_pipeline(StandardScaler(), SVC(kernel=\"poly\", degree=3, C=5.0, coef0=1.0, gamma=\"scale\"))),\n",
    "    (\"RBF γ=scale\", make_pipeline(StandardScaler(), SVC(kernel=\"rbf\", C=5.0, gamma=\"scale\"))),\n",
    "    (\"RBF γ=auto\",  make_pipeline(StandardScaler(), SVC(kernel=\"rbf\", C=5.0, gamma=\"auto\"))),\n",
    "    (\"RBF (smooth)\", make_pipeline(StandardScaler(), SVC(kernel=\"rbf\", C=1.0, gamma=0.5))),\n",
    "    (\"RBF (wiggly)\", make_pipeline(StandardScaler(), SVC(kernel=\"rbf\", C=50.0, gamma=5.0))),\n",
    "]\n",
    "\n",
    "N = 600\n",
    "\n",
    "rng = np.random.default_rng(0)\n",
    "\n",
    "for DATASET in [\"moons\", \"circles\", \"xor\", \"spirals\", \"rings\", \"checker\"]:\n",
    "    X, y = load_dataset(DATASET, N, rng)\n",
    "    # your code that uses X, y here\n",
    "\n",
    "    fig, axes = plt.subplots(2, 3, figsize=(12, 8))\n",
    "    axes = axes.ravel()\n",
    "\n",
    "    for ax, (name, clf) in zip(axes, models):\n",
    "        clf.fit(X, y)\n",
    "        plot_decision_function(ax, clf, X, y, name)\n",
    "\n",
    "    plt.suptitle(f\"Kernel SVMs on '{DATASET}' dataset\")\n",
    "    plt.tight_layout()\n",
    "    plt.show()\n"
   ]
  }
 ],
 "metadata": {
  "kernelspec": {
   "display_name": "Python 3 (ipykernel)",
   "language": "python",
   "name": "python3"
  },
  "language_info": {
   "codemirror_mode": {
    "name": "ipython",
    "version": 3
   },
   "file_extension": ".py",
   "mimetype": "text/x-python",
   "name": "python",
   "nbconvert_exporter": "python",
   "pygments_lexer": "ipython3",
   "version": "3.13.7"
  }
 },
 "nbformat": 4,
 "nbformat_minor": 4
}
