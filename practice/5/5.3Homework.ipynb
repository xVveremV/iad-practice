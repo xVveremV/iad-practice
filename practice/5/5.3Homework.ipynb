{
 "cells": [
  {
   "cell_type": "code",
   "execution_count": 1,
   "id": "96a40dce-b987-4946-a826-21c4c95f893e",
   "metadata": {},
   "outputs": [
    {
     "name": "stdout",
     "output_type": "stream",
     "text": [
      "Початкові дані:\n",
      "['Tesla' 'Ford' 'Tesla' 'Ferrari' 'Tesla' 'Ford' 'Ferrari']\n",
      "\n",
      "Закодовані дані:\n",
      "[2 1 2 0 2 1 0]\n",
      "\n",
      "=== Відповідність LabelEncoder ===\n",
      "  Original  Encoded\n",
      "0  Ferrari        0\n",
      "1     Ford        1\n",
      "2    Tesla        2\n",
      "\n",
      "Результат fit_transform:\n",
      "[2 1 2 0 2 1 0]\n"
     ]
    }
   ],
   "source": [
    "import numpy as np\n",
    "import pandas as pd\n",
    "from sklearn.preprocessing import LabelEncoder\n",
    "\n",
    "# === 1. Початкові дані ===\n",
    "cars = np.array(['Tesla', 'Ford', 'Tesla', 'Ferrari', 'Tesla', 'Ford', 'Ferrari'])\n",
    "print(\"Початкові дані:\")\n",
    "print(cars)\n",
    "\n",
    "# === 2. Створення LabelEncoder ===\n",
    "encoder = LabelEncoder()\n",
    "\n",
    "# === 3. Навчання (fit) ===\n",
    "encoder.fit(cars)\n",
    "\n",
    "# === 4. Перетворення у числові мітки (transform) ===\n",
    "cars_encoded = encoder.transform(cars)\n",
    "print(\"\\nЗакодовані дані:\")\n",
    "print(cars_encoded)\n",
    "\n",
    "# === 5. Перевірка відповідностей ===\n",
    "label_mapping = pd.DataFrame({\n",
    "    'Original': encoder.classes_,\n",
    "    'Encoded': range(len(encoder.classes_))\n",
    "})\n",
    "print(\"\\n=== Відповідність LabelEncoder ===\")\n",
    "print(label_mapping)\n",
    "\n",
    "# === 6. Додатково: можна одразу зробити fit_transform ===\n",
    "cars_encoded2 = encoder.fit_transform(cars)\n",
    "print(\"\\nРезультат fit_transform:\")\n",
    "print(cars_encoded2)\n"
   ]
  }
 ],
 "metadata": {
  "kernelspec": {
   "display_name": "Python 3 (ipykernel)",
   "language": "python",
   "name": "python3"
  },
  "language_info": {
   "codemirror_mode": {
    "name": "ipython",
    "version": 3
   },
   "file_extension": ".py",
   "mimetype": "text/x-python",
   "name": "python",
   "nbconvert_exporter": "python",
   "pygments_lexer": "ipython3",
   "version": "3.13.7"
  }
 },
 "nbformat": 4,
 "nbformat_minor": 5
}
