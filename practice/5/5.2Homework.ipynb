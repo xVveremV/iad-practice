{
 "cells": [
  {
   "cell_type": "code",
   "execution_count": 1,
   "id": "5e460b0c-e30f-4efd-8bb9-fc0b74d857d8",
   "metadata": {},
   "outputs": [
    {
     "name": "stdout",
     "output_type": "stream",
     "text": [
      "Початкові дані:\n",
      "[[ 1]\n",
      " [ 5]\n",
      " [ 6]\n",
      " [ 7]\n",
      " [ 8]\n",
      " [10]]\n",
      "\n",
      "=== StandardScaler ===\n",
      "Середнє значення: -0.0\n",
      "Стандартне відхилення: 1.0\n",
      "Результат:\n",
      " [[-1.84930496]\n",
      " [-0.41758499]\n",
      " [-0.059655  ]\n",
      " [ 0.29827499]\n",
      " [ 0.65620498]\n",
      " [ 1.37206497]]\n",
      "\n",
      "=== MinMaxScaler ===\n",
      "Мінімум: 0.0\n",
      "Максимум: 1.0\n",
      "Результат:\n",
      " [[0.        ]\n",
      " [0.44444444]\n",
      " [0.55555556]\n",
      " [0.66666667]\n",
      " [0.77777778]\n",
      " [1.        ]]\n",
      "\n",
      "=== Порівняльна таблиця ===\n",
      "   Original  StandardScaler  MinMaxScaler\n",
      "0         1       -1.849305      0.000000\n",
      "1         5       -0.417585      0.444444\n",
      "2         6       -0.059655      0.555556\n",
      "3         7        0.298275      0.666667\n",
      "4         8        0.656205      0.777778\n",
      "5        10        1.372065      1.000000\n"
     ]
    }
   ],
   "source": [
    "import numpy as np\n",
    "import pandas as pd\n",
    "from sklearn.preprocessing import StandardScaler, MinMaxScaler\n",
    "\n",
    "# === 1. Початкові дані ===\n",
    "# Наприклад, значення оцінок або будь-яких числових показників\n",
    "ax = np.array([[1], [5], [6], [7], [8], [10]])\n",
    "print(\"Початкові дані:\")\n",
    "print(ax)\n",
    "\n",
    "# === 2. Масштабування за допомогою StandardScaler ===\n",
    "# StandardScaler переводить дані до середнього = 0 і стандартного відхилення = 1\n",
    "standard_scaler = StandardScaler()\n",
    "standard_scaler.fit(ax)\n",
    "ax_standard = standard_scaler.transform(ax)\n",
    "\n",
    "print(\"\\n=== StandardScaler ===\")\n",
    "print(\"Середнє значення:\", round(ax_standard.mean(), 3))\n",
    "print(\"Стандартне відхилення:\", round(ax_standard.std(), 3))\n",
    "print(\"Результат:\\n\", ax_standard)\n",
    "\n",
    "# === 3. Масштабування за допомогою MinMaxScaler ===\n",
    "# MinMaxScaler переводить значення у діапазон [0, 1]\n",
    "minmax_scaler = MinMaxScaler()\n",
    "minmax_scaler.fit(ax)\n",
    "ax_minmax = minmax_scaler.transform(ax)\n",
    "\n",
    "print(\"\\n=== MinMaxScaler ===\")\n",
    "print(\"Мінімум:\", ax_minmax.min())\n",
    "print(\"Максимум:\", ax_minmax.max())\n",
    "print(\"Результат:\\n\", ax_minmax)\n",
    "\n",
    "# === 4. Порівняння результатів у таблиці ===\n",
    "comparison = pd.DataFrame({\n",
    "    'Original': ax.flatten(),\n",
    "    'StandardScaler': ax_standard.flatten(),\n",
    "    'MinMaxScaler': ax_minmax.flatten()\n",
    "})\n",
    "print(\"\\n=== Порівняльна таблиця ===\")\n",
    "print(comparison)\n"
   ]
  }
 ],
 "metadata": {
  "kernelspec": {
   "display_name": "Python 3 (ipykernel)",
   "language": "python",
   "name": "python3"
  },
  "language_info": {
   "codemirror_mode": {
    "name": "ipython",
    "version": 3
   },
   "file_extension": ".py",
   "mimetype": "text/x-python",
   "name": "python",
   "nbconvert_exporter": "python",
   "pygments_lexer": "ipython3",
   "version": "3.13.7"
  }
 },
 "nbformat": 4,
 "nbformat_minor": 5
}
