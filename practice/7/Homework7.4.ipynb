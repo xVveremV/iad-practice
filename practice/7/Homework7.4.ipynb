{
 "cells": [
  {
   "cell_type": "code",
   "execution_count": 12,
   "id": "489965af-7022-434c-9e90-4104cfeb2649",
   "metadata": {},
   "outputs": [
    {
     "name": "stdout",
     "output_type": "stream",
     "text": [
      "Кількість повідомлень за категоріями: Counter({'ham': 4825, 'spam': 747})\n"
     ]
    },
    {
     "data": {
      "image/png": "[encoded data removed]",
      "text/plain": [
       "<Figure size 600x400 with 1 Axes>"
      ]
     },
     "metadata": {},
     "output_type": "display_data"
    },
    {
     "name": "stdout",
     "output_type": "stream",
     "text": [
      "Бібліотека wordcloud не встановлена. Хмари слів пропущені.\n",
      "Пропущено візуалізацію для 'spam' через відсутність wordcloud\n",
      "Пропущено візуалізацію для 'ham' через відсутність wordcloud\n",
      "Розмір навчальної вибірки: (4457,) (4457,)\n",
      "Classification Report:\n",
      "              precision    recall  f1-score   support\n",
      "\n",
      "         ham       1.00      0.99      0.99       971\n",
      "        spam       0.93      0.97      0.95       144\n",
      "\n",
      "    accuracy                           0.99      1115\n",
      "   macro avg       0.96      0.98      0.97      1115\n",
      "weighted avg       0.99      0.99      0.99      1115\n",
      "\n",
      "Confusion Matrix:\n",
      "[[961  10]\n",
      " [  4 140]]\n"
     ]
    }
   ],
   "source": [
    "# Імпортуємо необхідні бібліотеки\n",
    "import pandas as pd  # для роботи з таблицями та даними\n",
    "import numpy as np  # для математичних операцій та масивів\n",
    "import matplotlib.pyplot as plt  # для створення графіків та візуалізацій\n",
    "\n",
    "from sklearn.feature_extraction.text import CountVectorizer  # для перетворення тексту у векторну форму\n",
    "from sklearn.naive_bayes import MultinomialNB  # наївний баєсівський класифікатор для тексту\n",
    "from sklearn.metrics import classification_report, confusion_matrix  # для оцінки точності моделі\n",
    "from sklearn.model_selection import train_test_split  # для розділення даних на навчальні та тестові\n",
    "from collections import Counter  # для підрахунку кількості елементів у колекції\n",
    "\n",
    "\n",
    "# Завантаження даних\n",
    "url = 'https://drive.google.com/file/d/1b5p4CJMDpOzkmQIi5Jk9PLxD8reHzj6S/view?usp=sharing'  # посилання на Google Drive\n",
    "url_ = 'https://drive.google.com/uc?id=' + url.split('/')[-2]  # перетворюємо посилання для прямого завантаження\n",
    "df = pd.read_csv(url_)  # читаємо CSV файл у DataFrame\n",
    "\n",
    "\n",
    "# Підрахунок кількості повідомлень у кожній категорії\n",
    "category_counts = Counter(df['target'])  # рахуємо кількість 'spam' та 'ham'\n",
    "print(\"Кількість повідомлень за категоріями:\", category_counts)  # виводимо результат\n",
    "\n",
    "\n",
    "# Візуалізація кількості спаму та ham через bar-графік\n",
    "plt.figure(figsize=(6,4))  # задаємо розмір графіка\n",
    "plt.bar(category_counts.keys(), category_counts.values(), color=['red','green'])  # створюємо стовпчикову діаграму\n",
    "plt.title(\"Кількість повідомлень за категоріями\")  # заголовок графіка\n",
    "plt.xlabel(\"Категорія\")  # підпис осі X\n",
    "plt.ylabel(\"Кількість\")  # підпис осі Y\n",
    "plt.show()  # відображаємо графік\n",
    "\n",
    "\n",
    "# Перевірка наявності wordcloud для хмар слів\n",
    "try:\n",
    "    from wordcloud import WordCloud  # імпортуємо WordCloud\n",
    "    WORDCLOUD_AVAILABLE = True  # прапорець для перевірки наявності бібліотеки\n",
    "except ModuleNotFoundError:\n",
    "    print(\"Бібліотека wordcloud не встановлена. Хмари слів пропущені.\")\n",
    "    WORDCLOUD_AVAILABLE = False  # якщо бібліотеки немає, прапорець False\n",
    "\n",
    "\n",
    "# Функція для створення хмари слів\n",
    "def visualize(label):\n",
    "    if not WORDCLOUD_AVAILABLE:  # якщо бібліотека недоступна\n",
    "        print(f\"Пропущено візуалізацію для '{label}' через відсутність wordcloud\")\n",
    "        return  # пропускаємо функцію\n",
    "    # об'єднуємо всі повідомлення певної категорії в один рядок та переводимо в нижній регістр\n",
    "    text = ' '.join(df[df['target']==label]['text'].str.lower())\n",
    "    # створюємо об'єкт WordCloud та генеруємо хмару слів\n",
    "    wordcloud = WordCloud(width=600, height=400, background_color=\"white\").generate(text)\n",
    "    plt.imshow(wordcloud)  # відображаємо зображення\n",
    "    plt.axis('off')  # вимикаємо осі\n",
    "    plt.show()  # показуємо графік\n",
    "\n",
    "\n",
    "# Викликаємо візуалізацію для спаму та ham\n",
    "visualize('spam')\n",
    "visualize('ham')\n",
    "\n",
    "\n",
    "# Розділення даних на навчальні та тестові\n",
    "X_train, X_test, y_train, y_test = train_test_split(df['text'], df['target'], test_size=0.20)  # 80% навчання, 20% тест\n",
    "print(\"Розмір навчальної вибірки:\", X_train.shape, y_train.shape)  # перевіряємо розмір навчальної вибірки\n",
    "\n",
    "\n",
    "# Векторизація тексту\n",
    "vectorizer = CountVectorizer()  # створюємо об'єкт CountVectorizer\n",
    "X_train_transformed = vectorizer.fit_transform(X_train)  # навчаємо векторизатор на навчальних даних та трансформуємо їх\n",
    "X_test_transformed = vectorizer.transform(X_test)  # трансформуємо тестові дані (без повторного навчання)\n",
    "\n",
    "\n",
    "# Навчання моделі\n",
    "clf = MultinomialNB(alpha=0.1)  # створюємо наївний баєсівський класифікатор з alpha=0.1\n",
    "clf.fit(X_train_transformed, y_train)  # навчаємо модель на навчальних даних\n",
    "y_pred = clf.predict(X_test_transformed)  # робимо передбачення на тестових даних\n",
    "\n",
    "\n",
    "# Оцінка моделі\n",
    "print(\"Classification Report:\")  # заголовок\n",
    "print(classification_report(y_test, y_pred))  # precision, recall, f1-score для кожного класу\n",
    "print(\"Confusion Matrix:\")  # заголовок\n",
    "print(confusion_matrix(y_test, y_pred))  # матриця плутанини\n"
   ]
  }
 ],
 "metadata": {
  "kernelspec": {
   "display_name": "Python 3 (ipykernel)",
   "language": "python",
   "name": "python3"
  },
  "language_info": {
   "codemirror_mode": {
    "name": "ipython",
    "version": 3
   },
   "file_extension": ".py",
   "mimetype": "text/x-python",
   "name": "python",
   "nbconvert_exporter": "python",
   "pygments_lexer": "ipython3",
   "version": "3.13.7"
  }
 },
 "nbformat": 4,
 "nbformat_minor": 5
}
