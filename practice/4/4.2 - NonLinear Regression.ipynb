{
 "cells": [
  {
   "cell_type": "code",
   "execution_count": null,
   "id": "31399dde-3959-4a2e-ba5e-10fd0c637600",
   "metadata": {},
   "outputs": [],
   "source": [
    "import numpy as np\n",
    "import matplotlib.pyplot as plt\n",
    "from sklearn.preprocessing import PolynomialFeatures\n",
    "from sklearn.linear_model import LinearRegression\n",
    "from sklearn.pipeline import make_pipeline"
   ]
  },
  {
   "cell_type": "code",
   "execution_count": null,
   "id": "25c8ec264db19496",
   "metadata": {},
   "outputs": [],
   "source": [
    "# generation of synthetic dataset\n",
    "\n",
    "N = 100\n",
    "x = np.linspace(-2, 2, N)\n",
    "y = x ** 2 - 3\n",
    "noise = np.random.normal(0, .5, N)\n",
    "\n",
    "# original function\n",
    "y0 = x**4 - 3* x**2 +x + 5\n",
    "\n",
    "# \"real data\"\n",
    "y = y0 + noise\n",
    "\n",
    "plt.grid()\n",
    "plt.scatter(x, y, marker = '.', color = 'r')\n",
    "plt.plot(x, y0, color='b')"
   ]
  },
  {
   "cell_type": "code",
   "execution_count": null,
   "id": "afc106da-7566-4aa6-a4f1-8c6e99a6ce8f",
   "metadata": {},
   "outputs": [],
   "source": [
    "# Reshape for sklearn\n",
    "x = x.reshape(-1, 1)"
   ]
  },
  {
   "cell_type": "code",
   "execution_count": null,
   "id": "d695debb-25c5-4cea-9572-70ab7a1043cd",
   "metadata": {},
   "outputs": [],
   "source": [
    "# Polynomial regression (degree=4, since the true function is quartic)\n",
    "degree = 4\n",
    "model = make_pipeline(PolynomialFeatures(degree), LinearRegression())\n",
    "model.fit(x, y)"
   ]
  },
  {
   "cell_type": "code",
   "execution_count": null,
   "id": "423b3b72-e75e-4bd5-ada3-b0a93b5c7c54",
   "metadata": {},
   "outputs": [],
   "source": [
    "x_fit = np.linspace(-2, 2, 200).reshape(-1, 1)\n",
    "y_fit = model.predict(x_fit)"
   ]
  },
  {
   "cell_type": "code",
   "execution_count": null,
   "id": "a30c522e-65de-4918-9f24-a9664ab3e2c0",
   "metadata": {},
   "outputs": [],
   "source": [
    "plt.grid()\n",
    "plt.plot(x, y0, \"b\", label=\"Original function\")\n",
    "plt.scatter(x, y, color=\"g\", marker =\".\", label=\"Original + noise\", alpha=0.6)\n",
    "plt.plot(x_fit, y_fit, \"r\", label=\"Found function\")\n",
    "plt.legend()"
   ]
  },
  {
   "cell_type": "code",
   "execution_count": null,
   "id": "8ec5cd2e-bac4-43fb-ab76-2550fd8b8309",
   "metadata": {},
   "outputs": [],
   "source": [
    "# accessing arguments found\n",
    "linreg = model.named_steps[\"linearregression\"]"
   ]
  },
  {
   "cell_type": "code",
   "execution_count": null,
   "id": "81898f26-3627-4512-8b1e-980300ba12e5",
   "metadata": {},
   "outputs": [],
   "source": [
    "# coefficients\n",
    "linreg.coef_"
   ]
  },
  {
   "cell_type": "code",
   "execution_count": null,
   "id": "23abb343-76cc-484b-a73e-5c9f432a631a",
   "metadata": {},
   "outputs": [],
   "source": [
    "# shift\n",
    "linreg.intercept_"
   ]
  },
  {
   "cell_type": "code",
   "execution_count": null,
   "id": "60167b90-de5a-4833-8ed2-5862e06fd5b0",
   "metadata": {},
   "outputs": [],
   "source": [
    "all = np.hstack(([linreg.intercept_], linreg.coef_[1:]))\n",
    "all\n",
    "#           5     +       x          + x^2    +    x^3     +    x^4"
   ]
  }
 ],
 "metadata": {
  "kernelspec": {
   "display_name": "Python 3 (ipykernel)",
   "language": "python",
   "name": "python3"
  },
  "language_info": {
   "codemirror_mode": {
    "name": "ipython",
    "version": 3
   },
   "file_extension": ".py",
   "mimetype": "text/x-python",
   "name": "python",
   "nbconvert_exporter": "python",
   "pygments_lexer": "ipython3",
   "version": "3.13.7"
  }
 },
 "nbformat": 4,
 "nbformat_minor": 5
}
