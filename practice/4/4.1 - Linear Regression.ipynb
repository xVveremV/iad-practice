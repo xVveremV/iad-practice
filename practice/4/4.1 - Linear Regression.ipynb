{
 "cells": [
  {
   "cell_type": "code",
   "execution_count": null,
   "id": "31399dde-3959-4a2e-ba5e-10fd0c637600",
   "metadata": {},
   "outputs": [],
   "source": [
    "import numpy as np\n",
    "import matplotlib.pyplot as plt\n",
    "from sklearn.linear_model import LinearRegression"
   ]
  },
  {
   "cell_type": "code",
   "execution_count": null,
   "id": "25c8ec264db19496",
   "metadata": {},
   "outputs": [],
   "source": [
    "# generation of synthetic dataset\n",
    "N = 100\n",
    "a = 1\n",
    "b = 3\n",
    "\n",
    "x = np.random.uniform(0, 5, N)\n",
    "noise = np.random.normal(0, .5, N)\n",
    "y = a * x + b + noise\n",
    "\n",
    "plt.grid()\n",
    "plt.scatter(x, y, marker = '.', color = 'r')"
   ]
  },
  {
   "cell_type": "code",
   "execution_count": null,
   "id": "afc106da-7566-4aa6-a4f1-8c6e99a6ce8f",
   "metadata": {},
   "outputs": [],
   "source": [
    "X = x.reshape(-1, 1)"
   ]
  },
  {
   "cell_type": "code",
   "execution_count": null,
   "id": "de460350-357b-4449-bc5d-14bad5c1d69c",
   "metadata": {},
   "outputs": [],
   "source": [
    "x # 1d array"
   ]
  },
  {
   "cell_type": "code",
   "execution_count": null,
   "id": "46598f0f-6812-4760-bef0-c0e96bb3ca8d",
   "metadata": {},
   "outputs": [],
   "source": [
    "X # array where each row is an array to"
   ]
  },
  {
   "cell_type": "code",
   "execution_count": null,
   "id": "d695debb-25c5-4cea-9572-70ab7a1043cd",
   "metadata": {},
   "outputs": [],
   "source": [
    "# a * x + b = y\n",
    "\n",
    "model = LinearRegression()\n",
    "model.fit(X, y)\n",
    "model"
   ]
  },
  {
   "cell_type": "code",
   "execution_count": null,
   "id": "423b3b72-e75e-4bd5-ada3-b0a93b5c7c54",
   "metadata": {},
   "outputs": [],
   "source": [
    "a_found = model.coef_[0]\n",
    "b_found = model.intercept_"
   ]
  },
  {
   "cell_type": "code",
   "execution_count": null,
   "id": "a30c522e-65de-4918-9f24-a9664ab3e2c0",
   "metadata": {},
   "outputs": [],
   "source": [
    "a_found"
   ]
  },
  {
   "cell_type": "code",
   "execution_count": null,
   "id": "8ec5cd2e-bac4-43fb-ab76-2550fd8b8309",
   "metadata": {},
   "outputs": [],
   "source": [
    "b_found"
   ]
  }
 ],
 "metadata": {
  "kernelspec": {
   "display_name": "Python 3 (ipykernel)",
   "language": "python",
   "name": "python3"
  },
  "language_info": {
   "codemirror_mode": {
    "name": "ipython",
    "version": 3
   },
   "file_extension": ".py",
   "mimetype": "text/x-python",
   "name": "python",
   "nbconvert_exporter": "python",
   "pygments_lexer": "ipython3",
   "version": "3.13.7"
  }
 },
 "nbformat": 4,
 "nbformat_minor": 5
}
