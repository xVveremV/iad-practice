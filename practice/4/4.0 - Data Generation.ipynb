{
 "cells": [
  {
   "cell_type": "code",
   "execution_count": null,
   "id": "891e24cb223398f6",
   "metadata": {},
   "outputs": [],
   "source": [
    "import matplotlib.pyplot as plt\n",
    "import numpy as np"
   ]
  },
  {
   "cell_type": "code",
   "execution_count": null,
   "id": "4298625ff8e4fdd1",
   "metadata": {},
   "outputs": [],
   "source": [
    "# 0..5 100 values\n",
    "x = np.linspace(0, 5, 100)"
   ]
  },
  {
   "cell_type": "code",
   "execution_count": null,
   "id": "798cd975-930c-4209-8d1b-f0f77030a058",
   "metadata": {},
   "outputs": [],
   "source": [
    "x # numpy 1-d array of x-values"
   ]
  },
  {
   "cell_type": "code",
   "execution_count": null,
   "id": "b7a42ff8e4e2e292",
   "metadata": {},
   "outputs": [],
   "source": [
    "y = x ** 2 - 3"
   ]
  },
  {
   "cell_type": "code",
   "execution_count": null,
   "id": "0ee7afb5-4835-465a-9f74-28637b3c99de",
   "metadata": {},
   "outputs": [],
   "source": [
    "y # numpy 1-d array of y-values"
   ]
  },
  {
   "cell_type": "code",
   "execution_count": null,
   "id": "894df6c00732d1e5",
   "metadata": {},
   "outputs": [],
   "source": [
    "plt.plot(x, y, 'r--') # red color with dashed line style\n",
    "plt.xlabel('X')\n",
    "plt.ylabel('Y')\n",
    "plt.title('Our Plot')\n",
    "plt.grid()"
   ]
  },
  {
   "cell_type": "code",
   "execution_count": null,
   "id": "a4a980b32810c800",
   "metadata": {},
   "outputs": [],
   "source": [
    "y1 = np.sin(x)\n",
    "y2 = np.cos(x)\n",
    "\n",
    "plt.plot(x, y1, label = 'sin(x)')\n",
    "plt.plot(x, y2, label = 'cos(x)')\n",
    "plt.legend()\n",
    "plt.grid()"
   ]
  },
  {
   "cell_type": "code",
   "execution_count": null,
   "id": "880b1307-b0ce-4056-98d5-86ce1567b544",
   "metadata": {},
   "outputs": [],
   "source": [
    "# generation of synthetic dataset\n",
    "N = 100\n",
    "a = 1\n",
    "b = 3"
   ]
  },
  {
   "cell_type": "code",
   "execution_count": null,
   "id": "7c55ce43-d07f-4745-b3bb-a9cb5c6aab56",
   "metadata": {},
   "outputs": [],
   "source": [
    "# points\n",
    "x = np.random.uniform(0, 5, N)\n",
    "noise = np.random.normal(0, 1, N)\n",
    "y = a * x + b + noise\n",
    "\n",
    "plt.grid()\n",
    "plt.scatter(x, y, marker = '.', color = 'r')"
   ]
  },
  {
   "cell_type": "code",
   "execution_count": null,
   "id": "28fd61f7-b5cd-41b3-bb9e-2407d236652f",
   "metadata": {},
   "outputs": [],
   "source": [
    "plt.grid()\n",
    "y = a * x + b\n",
    "plt.plot(x, y)"
   ]
  },
  {
   "cell_type": "code",
   "execution_count": null,
   "id": "bd81d5d52eccd4be",
   "metadata": {},
   "outputs": [],
   "source": [
    "# different distribution\n",
    "np.random.seed(42)\n",
    "\n",
    "N = 100_000\n",
    "uniform_data = np.random.uniform(0, 5, N) # uniform in range [0..5]\n",
    "normal_data  = np.random.normal(loc=2.5, scale=1.0, size=N)\n",
    "\n",
    "# plt.figure(figsize=(10, 5))\n",
    "plt.hist(uniform_data, bins=50, density=True, alpha=0.6, label=\"Uniform(0, 5)\")\n",
    "plt.hist(normal_data,  bins=50, density=True, alpha=0.6, label=\"Normal(mean=2.5, std=1)\")\n",
    "plt.title(\"Uniform vs Normal Distribution\")\n",
    "plt.xlabel(\"Value\")\n",
    "plt.ylabel(\"Density\")\n",
    "plt.legend()\n",
    "plt.grid(True)\n",
    "plt.show()"
   ]
  },
  {
   "cell_type": "code",
   "execution_count": null,
   "id": "ed1628c3-93de-4dc6-8201-1d05abdc657d",
   "metadata": {},
   "outputs": [],
   "source": [
    "mu = np.mean(normal_data)\n",
    "mu"
   ]
  },
  {
   "cell_type": "code",
   "execution_count": null,
   "id": "a969b02d-ec1d-42d5-909c-16314fc1a147",
   "metadata": {},
   "outputs": [],
   "source": [
    "sigma = np.std(normal_data)\n",
    "sigma"
   ]
  },
  {
   "cell_type": "code",
   "execution_count": null,
   "id": "9c6b88d6-dbf7-4ad2-9603-e85c3f414732",
   "metadata": {},
   "outputs": [],
   "source": [
    "outliers = normal_data[np.abs(normal_data - mu) > 3*sigma]"
   ]
  },
  {
   "cell_type": "code",
   "execution_count": null,
   "id": "a7590dce-f74f-4426-9704-369ac4cafce0",
   "metadata": {},
   "outputs": [],
   "source": [
    "# multivariative\n",
    "mu = [0, 0] # center x,y \n",
    "cov = [[10*10, 0], # x: 68% in range -10..10\n",
    "       [0, 3*3]]   # y: \n",
    "samples = np.random.multivariate_normal(mu, cov, 100)\n",
    "plt.figure(figsize=(10, 6)) # inches, 100px/inch\n",
    "plt.grid()\n",
    "\n",
    "plt.scatter(samples[:, 0], samples[:, 1], marker = '^', color='coral')\n",
    "\n",
    "mu = [-20, -6] # center x,y \n",
    "cov = [[4*4, 0],\n",
    "       [0, 2*2]]   # y: \n",
    "samples = np.random.multivariate_normal(mu, cov, 100)\n",
    "plt.scatter(samples[:, 0], samples[:, 1], marker = '.', color='blue')\n"
   ]
  },
  {
   "cell_type": "code",
   "execution_count": null,
   "id": "b3b00fcf-d274-4916-8c2e-984cb2f5d5eb",
   "metadata": {},
   "outputs": [],
   "source": [
    "# available markers\n",
    "markers = [\"o\", \"s\", \"D\", \"p\", \"*\", \"X\", \"^\", \"v\", \"<\", \">\", \"h\", \"H\", \"d\", \"P\", \".\", \",\", \"+\", \"x\", \"|\", \"_\"]\n",
    "\n",
    "plt.figure(figsize=(8,2))\n",
    "for i, m in enumerate(markers):\n",
    "    plt.scatter(i, 0, marker=m, s=100)\n",
    "    plt.text(i, -0.03, m, ha='center', fontsize=10)\n",
    "\n",
    "plt.axis(\"off\")\n",
    "plt.title(\"Available Matplotlib Markers\")\n",
    "plt.show()"
   ]
  },
  {
   "cell_type": "code",
   "execution_count": null,
   "id": "38a7d469-e059-4b47-838a-fe0e7bd1be29",
   "metadata": {},
   "outputs": [],
   "source": []
  }
 ],
 "metadata": {
  "kernelspec": {
   "display_name": "Python 3 (ipykernel)",
   "language": "python",
   "name": "python3"
  },
  "language_info": {
   "codemirror_mode": {
    "name": "ipython",
    "version": 3
   },
   "file_extension": ".py",
   "mimetype": "text/x-python",
   "name": "python",
   "nbconvert_exporter": "python",
   "pygments_lexer": "ipython3",
   "version": "3.13.7"
  }
 },
 "nbformat": 4,
 "nbformat_minor": 5
}
