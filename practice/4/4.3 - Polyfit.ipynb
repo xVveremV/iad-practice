{
 "cells": [
  {
   "cell_type": "code",
   "execution_count": null,
   "id": "31399dde-3959-4a2e-ba5e-10fd0c637600",
   "metadata": {},
   "outputs": [],
   "source": [
    "import numpy as np\n",
    "import matplotlib.pyplot as plt\n",
    "from sklearn.preprocessing import PolynomialFeatures, StandardScaler\n",
    "from sklearn.linear_model import SGDRegressor\n",
    "from sklearn.pipeline import make_pipeline"
   ]
  },
  {
   "cell_type": "code",
   "execution_count": null,
   "id": "ff1afe4f-5cad-46a6-966d-17f0985a4bbc",
   "metadata": {},
   "outputs": [],
   "source": [
    "# data\n",
    "N = 100\n",
    "x = np.linspace(-2, 2, N)\n",
    "noise = np.random.normal(0, .5, N)\n",
    "y0 = x**4 - 3*x**2 + x + 5\n",
    "y = y0 + noise"
   ]
  },
  {
   "cell_type": "code",
   "execution_count": null,
   "id": "c1f3d3a2-5a0c-4c5e-9c30-9df8dcef6572",
   "metadata": {},
   "outputs": [],
   "source": [
    "# polyfit\n",
    "coef = np.polyfit(x, y, deg=4)\n",
    "y_fit = np.polyval(coef, x)\n",
    "coef # c4, c3, c2, c1, c0"
   ]
  },
  {
   "cell_type": "code",
   "execution_count": null,
   "id": "58a7f974-587e-4ca7-95cc-1c089178c492",
   "metadata": {},
   "outputs": [],
   "source": [
    "# display\n",
    "plt.grid()\n",
    "plt.plot(x, y0, \"b\", label=\"Original function\")\n",
    "plt.scatter(x, y, color=\"g\", marker =\".\", label=\"Original + noise (data)\", alpha=0.6)\n",
    "plt.plot(x, y_fit, label=\"polyfit\", color=\"r\")\n",
    "plt.legend()"
   ]
  }
 ],
 "metadata": {
  "kernelspec": {
   "display_name": "Python 3 (ipykernel)",
   "language": "python",
   "name": "python3"
  },
  "language_info": {
   "codemirror_mode": {
    "name": "ipython",
    "version": 3
   },
   "file_extension": ".py",
   "mimetype": "text/x-python",
   "name": "python",
   "nbconvert_exporter": "python",
   "pygments_lexer": "ipython3",
   "version": "3.13.7"
  }
 },
 "nbformat": 4,
 "nbformat_minor": 5
}
